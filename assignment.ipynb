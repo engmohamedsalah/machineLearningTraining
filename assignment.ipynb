{
  "nbformat": 4,
  "nbformat_minor": 0,
  "metadata": {
    "colab": {
      "name": "assignment.ipynb",
      "provenance": [],
      "authorship_tag": "ABX9TyNfV7V3Lwh44vhlUA1ztevv",
      "include_colab_link": true
    },
    "kernelspec": {
      "name": "python3",
      "display_name": "Python 3"
    }
  },
  "cells": [
    {
      "cell_type": "markdown",
      "metadata": {
        "id": "view-in-github",
        "colab_type": "text"
      },
      "source": [
        "<a href=\"https://colab.research.google.com/github/engmohamedsalah/machineLearningTraining/blob/main/assignment.ipynb\" target=\"_parent\"><img src=\"https://colab.research.google.com/assets/colab-badge.svg\" alt=\"Open In Colab\"/></a>"
      ]
    },
    {
      "cell_type": "code",
      "metadata": {
        "id": "ST-D1uFHh3AM"
      },
      "source": [
        "from scipy.stats import bernoulli\r\n",
        "from scipy.stats import binom"
      ],
      "execution_count": 3,
      "outputs": []
    },
    {
      "cell_type": "code",
      "metadata": {
        "id": "X3d1dQzBhiI-"
      },
      "source": [
        "#**Problem 1**\r\n",
        "#Hospital records show that of patients suffering from a certain disease, 75% die of it. \r\n",
        "#What is the probability that of 6 randomly selected patients,4 will recover?\r\n",
        "#Find the following probabilities:\r\n"
      ],
      "execution_count": 1,
      "outputs": []
    },
    {
      "cell_type": "code",
      "metadata": {
        "colab": {
          "base_uri": "https://localhost:8080/"
        },
        "id": "mcWoxoS8h0KT",
        "outputId": "382b9b3d-efb5-4e4e-dc1a-3742429ddae5"
      },
      "source": [
        "#1. None of them will recover\r\n",
        "binom.pmf(n=6,k=0,p=0.75)"
      ],
      "execution_count": 5,
      "outputs": [
        {
          "output_type": "execute_result",
          "data": {
            "text/plain": [
              "0.00024414062500000016"
            ]
          },
          "metadata": {
            "tags": []
          },
          "execution_count": 5
        }
      ]
    },
    {
      "cell_type": "code",
      "metadata": {
        "colab": {
          "base_uri": "https://localhost:8080/"
        },
        "id": "Mt-rcwFoiOKZ",
        "outputId": "44c9c294-8794-4588-fa3a-d2a94ce936c1"
      },
      "source": [
        "#2. One will recover\r\n",
        "binom.pmf(n=6,k=1,p=0.75)"
      ],
      "execution_count": 6,
      "outputs": [
        {
          "output_type": "execute_result",
          "data": {
            "text/plain": [
              "0.004394531250000003"
            ]
          },
          "metadata": {
            "tags": []
          },
          "execution_count": 6
        }
      ]
    },
    {
      "cell_type": "code",
      "metadata": {
        "colab": {
          "base_uri": "https://localhost:8080/"
        },
        "id": "un3scTXhi42B",
        "outputId": "b1c86514-7f7f-4f35-acef-292ce788e6e0"
      },
      "source": [
        "#3. All 6 will recover\r\n",
        "binom.pmf(n=6,k=6,p=0.75)"
      ],
      "execution_count": 8,
      "outputs": [
        {
          "output_type": "execute_result",
          "data": {
            "text/plain": [
              "0.17797851562500003"
            ]
          },
          "metadata": {
            "tags": []
          },
          "execution_count": 8
        }
      ]
    },
    {
      "cell_type": "code",
      "metadata": {
        "colab": {
          "base_uri": "https://localhost:8080/"
        },
        "id": "khLXY_kei6gh",
        "outputId": "9a3c87ab-9a87-4e1a-bae2-f13880de2c16"
      },
      "source": [
        "#**Problem 2**\r\n",
        "#In the old days, there was a probability of 0.8 of success in any attempt to make a telephone call. \r\n",
        "#(This often depended on the importance of the person making the call, or the operator's curiosity!)\r\n",
        "#Calculate the probability of having 7 successes in 10 attempts.\r\n",
        "binom.pmf(n=10,k=7,p=0.8)"
      ],
      "execution_count": 9,
      "outputs": [
        {
          "output_type": "execute_result",
          "data": {
            "text/plain": [
              "0.20132659200000014"
            ]
          },
          "metadata": {
            "tags": []
          },
          "execution_count": 9
        }
      ]
    },
    {
      "cell_type": "code",
      "metadata": {
        "id": "Fvmxaao5jNBh"
      },
      "source": [
        "#Problem 3 A manufacturer of metal pistons finds that on the average, 12% of his pistons are rejected \r\n",
        "#because they are either oversize or undersize. What is the probability that a batch of 10 pistons will contain"
      ],
      "execution_count": 10,
      "outputs": []
    },
    {
      "cell_type": "code",
      "metadata": {
        "colab": {
          "base_uri": "https://localhost:8080/"
        },
        "id": "oqGzSqdmjpsx",
        "outputId": "5a939f9a-62c6-4af7-8caa-76160f2f3563"
      },
      "source": [
        "#no more than 2 rejects?\r\n",
        "binom.cdf(n=10,k=2,p=0.12)"
      ],
      "execution_count": 12,
      "outputs": [
        {
          "output_type": "execute_result",
          "data": {
            "text/plain": [
              "0.8913182062780246"
            ]
          },
          "metadata": {
            "tags": []
          },
          "execution_count": 12
        }
      ]
    },
    {
      "cell_type": "code",
      "metadata": {
        "colab": {
          "base_uri": "https://localhost:8080/"
        },
        "id": "UMd0R0Cyjqip",
        "outputId": "f9bff581-c6c8-45bd-8efc-ddfc75d5e065"
      },
      "source": [
        "#at least 2 rejects?\r\n",
        "binom.sf(n=10,k=1,p=0.12)"
      ],
      "execution_count": 47,
      "outputs": [
        {
          "output_type": "execute_result",
          "data": {
            "text/plain": [
              "0.34172496579595857"
            ]
          },
          "metadata": {
            "tags": []
          },
          "execution_count": 47
        }
      ]
    },
    {
      "cell_type": "code",
      "metadata": {
        "id": "0TtcM-iDkQqy"
      },
      "source": [
        "#Problem 4 An agent sells life insurance policies to five equally aged, healthy people. \r\n",
        "#According to recent data, the probability of a person living in these conditions for 30 years or more is 2/3. \r\n",
        "#Calculate the probability that after 30 years:"
      ],
      "execution_count": 15,
      "outputs": []
    },
    {
      "cell_type": "code",
      "metadata": {
        "colab": {
          "base_uri": "https://localhost:8080/"
        },
        "id": "SJv2AtJFkfc6",
        "outputId": "7a142475-2bd5-49d9-d58f-1aca06d6ba03"
      },
      "source": [
        "#All five people are still living.\r\n",
        "binom.pmf(n=5,k=5,p=2/3)"
      ],
      "execution_count": 20,
      "outputs": [
        {
          "output_type": "execute_result",
          "data": {
            "text/plain": [
              "0.13168724279835387"
            ]
          },
          "metadata": {
            "tags": []
          },
          "execution_count": 20
        }
      ]
    },
    {
      "cell_type": "code",
      "metadata": {
        "colab": {
          "base_uri": "https://localhost:8080/"
        },
        "id": "ZmTOYv7Tkhmq",
        "outputId": "b2819719-14a6-4b10-c787-c8e1fedf11ce"
      },
      "source": [
        "#At least three people are still living.\r\n",
        "binom.sf(n=5,k=2,p=2/3)"
      ],
      "execution_count": 48,
      "outputs": [
        {
          "output_type": "execute_result",
          "data": {
            "text/plain": [
              "0.7901234567901234"
            ]
          },
          "metadata": {
            "tags": []
          },
          "execution_count": 48
        }
      ]
    },
    {
      "cell_type": "code",
      "metadata": {
        "colab": {
          "base_uri": "https://localhost:8080/"
        },
        "id": "2ZHuXOP5kjhB",
        "outputId": "7f06a345-3484-41d3-d7d2-796b1a3986d8"
      },
      "source": [
        "#Exactly two people are still living.\r\n",
        "binom.pmf(n=5,k=2,p=2/3)"
      ],
      "execution_count": 22,
      "outputs": [
        {
          "output_type": "execute_result",
          "data": {
            "text/plain": [
              "0.16460905349794241"
            ]
          },
          "metadata": {
            "tags": []
          },
          "execution_count": 22
        }
      ]
    },
    {
      "cell_type": "code",
      "metadata": {
        "id": "uYTx_bvlkktS"
      },
      "source": [
        "#**Problem 5**\r\n",
        "#It has been determined that 5% of drivers checked at a road stop show traces of alcohol and 10% of drivers checked do not wear seat belts. \r\n",
        "#In addition, it has been observed that the two infractions are independent from one another. \r\n",
        "#If an officer stops five drivers at random:"
      ],
      "execution_count": 23,
      "outputs": []
    },
    {
      "cell_type": "code",
      "metadata": {
        "colab": {
          "base_uri": "https://localhost:8080/"
        },
        "id": "mmjqTurSqClJ",
        "outputId": "81d74c26-cc39-4575-c005-adcb4cbf098c"
      },
      "source": [
        "#1. Calculate the probability that exactly three of the drivers have committed any one of the two offenses.\r\n",
        "binom.pmf(n=5,k=3,p=(0.05+0.1 - (0.05*0.1)))"
      ],
      "execution_count": 32,
      "outputs": [
        {
          "output_type": "execute_result",
          "data": {
            "text/plain": [
              "0.022286210906249992"
            ]
          },
          "metadata": {
            "tags": []
          },
          "execution_count": 32
        }
      ]
    },
    {
      "cell_type": "code",
      "metadata": {
        "colab": {
          "base_uri": "https://localhost:8080/"
        },
        "id": "y7fZfskCqaad",
        "outputId": "3fa1207b-d9c0-40fe-b7d2-aa2d80153653"
      },
      "source": [
        "#2. Calculate the probability that at least one of the drivers checked has committed at least one of the two offenses.\r\n",
        "binom.sf(n=5,k=0,p=(0.05+0.1 - (0.05*0.1)))"
      ],
      "execution_count": 39,
      "outputs": [
        {
          "output_type": "execute_result",
          "data": {
            "text/plain": [
              "0.543090094215625"
            ]
          },
          "metadata": {
            "tags": []
          },
          "execution_count": 39
        }
      ]
    },
    {
      "cell_type": "code",
      "metadata": {
        "id": "Hwi_b5O0r918"
      },
      "source": [
        "#**Problem 6**\r\n",
        "#A pharmaceutical lab states that a drug causes negative side effects in 3 of every 100 patients. \r\n",
        "#To confirm this affirmation, another laboratory chooses 5 people at random who have consumed the drug. \r\n",
        "#What is the probability of the following events?"
      ],
      "execution_count": 40,
      "outputs": []
    },
    {
      "cell_type": "code",
      "metadata": {
        "colab": {
          "base_uri": "https://localhost:8080/"
        },
        "id": "E_q4GfMLymNh",
        "outputId": "09ea65a1-23b4-469e-8121-d7ea9508a4cb"
      },
      "source": [
        "#1.None of the five patients experience side effects.\r\n",
        "binom.pmf(n=5,k=0,p=0.03)"
      ],
      "execution_count": 41,
      "outputs": [
        {
          "output_type": "execute_result",
          "data": {
            "text/plain": [
              "0.8587340257"
            ]
          },
          "metadata": {
            "tags": []
          },
          "execution_count": 41
        }
      ]
    },
    {
      "cell_type": "code",
      "metadata": {
        "colab": {
          "base_uri": "https://localhost:8080/"
        },
        "id": "ZV0u17O7y2yf",
        "outputId": "f9f9edfc-7973-44a3-d677-9276431a39e8"
      },
      "source": [
        "#2.At least two experience side effects.   (note : greater than 1 (sf))\r\n",
        "binom.sf(n=5,k=1,p=0.03)"
      ],
      "execution_count": 43,
      "outputs": [
        {
          "output_type": "execute_result",
          "data": {
            "text/plain": [
              "0.0084720528"
            ]
          },
          "metadata": {
            "tags": []
          },
          "execution_count": 43
        }
      ]
    },
    {
      "cell_type": "code",
      "metadata": {
        "colab": {
          "base_uri": "https://localhost:8080/"
        },
        "id": "9W9tFJ0xzHjf",
        "outputId": "ebd587b1-f414-498b-a3cd-7110df908aa8"
      },
      "source": [
        "#3.What is the average number of patients that the laboratory should expect to experience side effects \r\n",
        "#if they choose 100 patients at random?\r\n",
        "100 * 0.03\r\n"
      ],
      "execution_count": 46,
      "outputs": [
        {
          "output_type": "execute_result",
          "data": {
            "text/plain": [
              "3.0"
            ]
          },
          "metadata": {
            "tags": []
          },
          "execution_count": 46
        }
      ]
    },
    {
      "cell_type": "code",
      "metadata": {
        "id": "KoCnNXwLzygI"
      },
      "source": [
        ""
      ],
      "execution_count": null,
      "outputs": []
    }
  ]
}